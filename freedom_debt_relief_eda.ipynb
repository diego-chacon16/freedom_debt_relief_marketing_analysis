{
 "cells": [
  {
   "cell_type": "markdown",
   "id": "07032776-4f0a-4651-8355-404555f33205",
   "metadata": {},
   "source": [
    "### Purpose of this Project\n",
    "\n",
    "+ Freedom has run a recent Marketing campaign promoting their value propositon\n",
    "+ The total cost of this campagin was $5 million\n",
    "+ There are five months of data provided, with the campaign occurring on the third month\n",
    "+ It is now our turn to present to Marketing, Sales & Operations whether this campaign was successful or not\n",
    "\n",
    "### This notebook will contain\n",
    "\n",
    "+ Data exploration and a quantitative assessment of the campaign's performance\n",
    "  - Outlining which metrics were chosen and why\n",
    "  - Recommendations for company strategy to improve future campaign performance"
   ]
  },
  {
   "cell_type": "code",
   "execution_count": 1,
   "id": "9c3422a1-52ba-4099-b91e-bc72134ab034",
   "metadata": {},
   "outputs": [
    {
     "data": {
      "text/html": [
       "<div>\n",
       "<style scoped>\n",
       "    .dataframe tbody tr th:only-of-type {\n",
       "        vertical-align: middle;\n",
       "    }\n",
       "\n",
       "    .dataframe tbody tr th {\n",
       "        vertical-align: top;\n",
       "    }\n",
       "\n",
       "    .dataframe thead th {\n",
       "        text-align: right;\n",
       "    }\n",
       "</style>\n",
       "<table border=\"1\" class=\"dataframe\">\n",
       "  <thead>\n",
       "    <tr style=\"text-align: right;\">\n",
       "      <th></th>\n",
       "      <th>client_id</th>\n",
       "      <th>client_geographical_region</th>\n",
       "      <th>client_residence_status</th>\n",
       "      <th>client_age</th>\n",
       "    </tr>\n",
       "  </thead>\n",
       "  <tbody>\n",
       "    <tr>\n",
       "      <th>6065</th>\n",
       "      <td>686872246977897</td>\n",
       "      <td>West</td>\n",
       "      <td>Own</td>\n",
       "      <td>35</td>\n",
       "    </tr>\n",
       "    <tr>\n",
       "      <th>28070</th>\n",
       "      <td>470518677565299</td>\n",
       "      <td>South</td>\n",
       "      <td>Rent</td>\n",
       "      <td>56</td>\n",
       "    </tr>\n",
       "    <tr>\n",
       "      <th>6936</th>\n",
       "      <td>883739117234218</td>\n",
       "      <td>South</td>\n",
       "      <td>Own</td>\n",
       "      <td>36</td>\n",
       "    </tr>\n",
       "    <tr>\n",
       "      <th>23158</th>\n",
       "      <td>822713875250308</td>\n",
       "      <td>South</td>\n",
       "      <td>Own</td>\n",
       "      <td>52</td>\n",
       "    </tr>\n",
       "    <tr>\n",
       "      <th>25506</th>\n",
       "      <td>442404955135328</td>\n",
       "      <td>South</td>\n",
       "      <td>Rent</td>\n",
       "      <td>53</td>\n",
       "    </tr>\n",
       "    <tr>\n",
       "      <th>28636</th>\n",
       "      <td>631431542327134</td>\n",
       "      <td>West</td>\n",
       "      <td>Own</td>\n",
       "      <td>56</td>\n",
       "    </tr>\n",
       "    <tr>\n",
       "      <th>12027</th>\n",
       "      <td>150678144870429</td>\n",
       "      <td>South</td>\n",
       "      <td>Rent</td>\n",
       "      <td>41</td>\n",
       "    </tr>\n",
       "    <tr>\n",
       "      <th>10827</th>\n",
       "      <td>521971892376941</td>\n",
       "      <td>South</td>\n",
       "      <td>Own</td>\n",
       "      <td>40</td>\n",
       "    </tr>\n",
       "    <tr>\n",
       "      <th>12010</th>\n",
       "      <td>769453548675001</td>\n",
       "      <td>West</td>\n",
       "      <td>Own</td>\n",
       "      <td>41</td>\n",
       "    </tr>\n",
       "    <tr>\n",
       "      <th>10936</th>\n",
       "      <td>627255228194699</td>\n",
       "      <td>West</td>\n",
       "      <td>Own</td>\n",
       "      <td>40</td>\n",
       "    </tr>\n",
       "  </tbody>\n",
       "</table>\n",
       "</div>"
      ],
      "text/plain": [
       "             client_id client_geographical_region client_residence_status  \\\n",
       "6065   686872246977897                       West                     Own   \n",
       "28070  470518677565299                      South                    Rent   \n",
       "6936   883739117234218                      South                     Own   \n",
       "23158  822713875250308                      South                     Own   \n",
       "25506  442404955135328                      South                    Rent   \n",
       "28636  631431542327134                       West                     Own   \n",
       "12027  150678144870429                      South                    Rent   \n",
       "10827  521971892376941                      South                     Own   \n",
       "12010  769453548675001                       West                     Own   \n",
       "10936  627255228194699                       West                     Own   \n",
       "\n",
       "       client_age  \n",
       "6065           35  \n",
       "28070          56  \n",
       "6936           36  \n",
       "23158          52  \n",
       "25506          53  \n",
       "28636          56  \n",
       "12027          41  \n",
       "10827          40  \n",
       "12010          41  \n",
       "10936          40  "
      ]
     },
     "execution_count": 1,
     "metadata": {},
     "output_type": "execute_result"
    }
   ],
   "source": [
    "# importing libraries \n",
    "import pandas as pd\n",
    "import numpy as np\n",
    "import matplotlib.pyplot as plt\n",
    "import seaborn as sns\n",
    "\n",
    "\n",
    "# loading the first dataset - client data\n",
    "client_data = pd.read_csv('data/client_data.csv')\n",
    "\n",
    "# displaying ten random samples from the dataset\n",
    "client_data.sample(n = 10, random_state = 42)"
   ]
  },
  {
   "cell_type": "code",
   "execution_count": 2,
   "id": "7e51c116-06a3-451e-8e1f-a0b332c3c49f",
   "metadata": {},
   "outputs": [
    {
     "name": "stdout",
     "output_type": "stream",
     "text": [
      "<class 'pandas.core.frame.DataFrame'>\n",
      "RangeIndex: 46347 entries, 0 to 46346\n",
      "Data columns (total 4 columns):\n",
      " #   Column                      Non-Null Count  Dtype \n",
      "---  ------                      --------------  ----- \n",
      " 0   client_id                   46347 non-null  int64 \n",
      " 1   client_geographical_region  46347 non-null  object\n",
      " 2   client_residence_status     46347 non-null  object\n",
      " 3   client_age                  46347 non-null  int64 \n",
      "dtypes: int64(2), object(2)\n",
      "memory usage: 1.4+ MB\n"
     ]
    }
   ],
   "source": [
    "# looking at and understanding the data types and columns in the client dataset\n",
    "client_data.info()"
   ]
  },
  {
   "cell_type": "code",
   "execution_count": 3,
   "id": "78297e60-df8c-4ae3-8417-c94ff9ae76f4",
   "metadata": {},
   "outputs": [
    {
     "data": {
      "text/html": [
       "<div>\n",
       "<style scoped>\n",
       "    .dataframe tbody tr th:only-of-type {\n",
       "        vertical-align: middle;\n",
       "    }\n",
       "\n",
       "    .dataframe tbody tr th {\n",
       "        vertical-align: top;\n",
       "    }\n",
       "\n",
       "    .dataframe thead th {\n",
       "        text-align: right;\n",
       "    }\n",
       "</style>\n",
       "<table border=\"1\" class=\"dataframe\">\n",
       "  <thead>\n",
       "    <tr style=\"text-align: right;\">\n",
       "      <th></th>\n",
       "      <th>client_id</th>\n",
       "      <th>deposit_type</th>\n",
       "      <th>deposit_amount</th>\n",
       "      <th>deposit_cadence</th>\n",
       "      <th>deposit_date</th>\n",
       "    </tr>\n",
       "  </thead>\n",
       "  <tbody>\n",
       "    <tr>\n",
       "      <th>229803</th>\n",
       "      <td>903285839400111</td>\n",
       "      <td>Scheduled Deposit</td>\n",
       "      <td>458.0</td>\n",
       "      <td>Monthly</td>\n",
       "      <td>2019-08-16</td>\n",
       "    </tr>\n",
       "    <tr>\n",
       "      <th>92181</th>\n",
       "      <td>19473282206850</td>\n",
       "      <td>Scheduled Deposit</td>\n",
       "      <td>334.0</td>\n",
       "      <td>Monthly</td>\n",
       "      <td>2019-10-08</td>\n",
       "    </tr>\n",
       "    <tr>\n",
       "      <th>284306</th>\n",
       "      <td>240342552445691</td>\n",
       "      <td>Actual Deposit</td>\n",
       "      <td>500.0</td>\n",
       "      <td>Biweekly</td>\n",
       "      <td>2019-10-14</td>\n",
       "    </tr>\n",
       "    <tr>\n",
       "      <th>117592</th>\n",
       "      <td>503016878166122</td>\n",
       "      <td>Scheduled Deposit</td>\n",
       "      <td>30.0</td>\n",
       "      <td>Biweekly</td>\n",
       "      <td>2019-07-03</td>\n",
       "    </tr>\n",
       "    <tr>\n",
       "      <th>453913</th>\n",
       "      <td>774929593989542</td>\n",
       "      <td>Scheduled Deposit</td>\n",
       "      <td>476.0</td>\n",
       "      <td>Monthly</td>\n",
       "      <td>2019-09-30</td>\n",
       "    </tr>\n",
       "    <tr>\n",
       "      <th>427363</th>\n",
       "      <td>745708866884363</td>\n",
       "      <td>Scheduled Deposit</td>\n",
       "      <td>121.0</td>\n",
       "      <td>Biweekly</td>\n",
       "      <td>2019-09-18</td>\n",
       "    </tr>\n",
       "    <tr>\n",
       "      <th>90436</th>\n",
       "      <td>377197113377463</td>\n",
       "      <td>Scheduled Deposit</td>\n",
       "      <td>484.0</td>\n",
       "      <td>Monthly</td>\n",
       "      <td>2019-10-18</td>\n",
       "    </tr>\n",
       "    <tr>\n",
       "      <th>391277</th>\n",
       "      <td>87877453117377</td>\n",
       "      <td>Actual Deposit</td>\n",
       "      <td>271.0</td>\n",
       "      <td>Biweekly</td>\n",
       "      <td>2019-09-06</td>\n",
       "    </tr>\n",
       "    <tr>\n",
       "      <th>417793</th>\n",
       "      <td>405758738732483</td>\n",
       "      <td>Scheduled Deposit</td>\n",
       "      <td>170.0</td>\n",
       "      <td>Biweekly</td>\n",
       "      <td>2019-09-16</td>\n",
       "    </tr>\n",
       "    <tr>\n",
       "      <th>454206</th>\n",
       "      <td>584109001324997</td>\n",
       "      <td>Scheduled Deposit</td>\n",
       "      <td>344.0</td>\n",
       "      <td>Monthly</td>\n",
       "      <td>2019-09-30</td>\n",
       "    </tr>\n",
       "  </tbody>\n",
       "</table>\n",
       "</div>"
      ],
      "text/plain": [
       "              client_id       deposit_type  deposit_amount deposit_cadence  \\\n",
       "229803  903285839400111  Scheduled Deposit           458.0         Monthly   \n",
       "92181    19473282206850  Scheduled Deposit           334.0         Monthly   \n",
       "284306  240342552445691     Actual Deposit           500.0        Biweekly   \n",
       "117592  503016878166122  Scheduled Deposit            30.0        Biweekly   \n",
       "453913  774929593989542  Scheduled Deposit           476.0         Monthly   \n",
       "427363  745708866884363  Scheduled Deposit           121.0        Biweekly   \n",
       "90436   377197113377463  Scheduled Deposit           484.0         Monthly   \n",
       "391277   87877453117377     Actual Deposit           271.0        Biweekly   \n",
       "417793  405758738732483  Scheduled Deposit           170.0        Biweekly   \n",
       "454206  584109001324997  Scheduled Deposit           344.0         Monthly   \n",
       "\n",
       "       deposit_date  \n",
       "229803   2019-08-16  \n",
       "92181    2019-10-08  \n",
       "284306   2019-10-14  \n",
       "117592   2019-07-03  \n",
       "453913   2019-09-30  \n",
       "427363   2019-09-18  \n",
       "90436    2019-10-18  \n",
       "391277   2019-09-06  \n",
       "417793   2019-09-16  \n",
       "454206   2019-09-30  "
      ]
     },
     "execution_count": 3,
     "metadata": {},
     "output_type": "execute_result"
    }
   ],
   "source": [
    "# loading in the second dataset - deposit data\n",
    "deposit_data = pd.read_csv('data/deposit_data.csv')\n",
    "\n",
    "# displaying ten random samples from the dataset\n",
    "deposit_data.sample(n = 10, random_state = 42)"
   ]
  },
  {
   "cell_type": "code",
   "execution_count": 4,
   "id": "2d4d2049-a581-44b5-951c-6dd32a6cedeb",
   "metadata": {},
   "outputs": [
    {
     "name": "stdout",
     "output_type": "stream",
     "text": [
      "<class 'pandas.core.frame.DataFrame'>\n",
      "RangeIndex: 480394 entries, 0 to 480393\n",
      "Data columns (total 5 columns):\n",
      " #   Column           Non-Null Count   Dtype  \n",
      "---  ------           --------------   -----  \n",
      " 0   client_id        480394 non-null  int64  \n",
      " 1   deposit_type     480394 non-null  object \n",
      " 2   deposit_amount   480394 non-null  float64\n",
      " 3   deposit_cadence  480394 non-null  object \n",
      " 4   deposit_date     480394 non-null  object \n",
      "dtypes: float64(1), int64(1), object(3)\n",
      "memory usage: 18.3+ MB\n"
     ]
    }
   ],
   "source": [
    "# looking at and understanding the data types and columns in the deposit dataset\n",
    "deposit_data.info()"
   ]
  },
  {
   "cell_type": "code",
   "execution_count": 5,
   "id": "1ad65351-d3b8-4638-b2ea-2d9bd4f8afec",
   "metadata": {},
   "outputs": [
    {
     "data": {
      "text/html": [
       "<div>\n",
       "<style scoped>\n",
       "    .dataframe tbody tr th:only-of-type {\n",
       "        vertical-align: middle;\n",
       "    }\n",
       "\n",
       "    .dataframe tbody tr th {\n",
       "        vertical-align: top;\n",
       "    }\n",
       "\n",
       "    .dataframe thead th {\n",
       "        text-align: right;\n",
       "    }\n",
       "</style>\n",
       "<table border=\"1\" class=\"dataframe\">\n",
       "  <thead>\n",
       "    <tr style=\"text-align: right;\">\n",
       "      <th></th>\n",
       "      <th>gregorian_date</th>\n",
       "      <th>month_name</th>\n",
       "    </tr>\n",
       "  </thead>\n",
       "  <tbody>\n",
       "    <tr>\n",
       "      <th>84</th>\n",
       "      <td>2019-08-24</td>\n",
       "      <td>Month 3</td>\n",
       "    </tr>\n",
       "    <tr>\n",
       "      <th>86</th>\n",
       "      <td>2019-08-26</td>\n",
       "      <td>Month 3</td>\n",
       "    </tr>\n",
       "    <tr>\n",
       "      <th>97</th>\n",
       "      <td>2019-09-06</td>\n",
       "      <td>Month 4</td>\n",
       "    </tr>\n",
       "    <tr>\n",
       "      <th>115</th>\n",
       "      <td>2019-09-24</td>\n",
       "      <td>Month 4</td>\n",
       "    </tr>\n",
       "    <tr>\n",
       "      <th>29</th>\n",
       "      <td>2019-06-30</td>\n",
       "      <td>Month 1</td>\n",
       "    </tr>\n",
       "    <tr>\n",
       "      <th>114</th>\n",
       "      <td>2019-09-23</td>\n",
       "      <td>Month 4</td>\n",
       "    </tr>\n",
       "    <tr>\n",
       "      <th>78</th>\n",
       "      <td>2019-08-18</td>\n",
       "      <td>Month 3</td>\n",
       "    </tr>\n",
       "    <tr>\n",
       "      <th>81</th>\n",
       "      <td>2019-08-21</td>\n",
       "      <td>Month 3</td>\n",
       "    </tr>\n",
       "    <tr>\n",
       "      <th>18</th>\n",
       "      <td>2019-06-19</td>\n",
       "      <td>Month 1</td>\n",
       "    </tr>\n",
       "    <tr>\n",
       "      <th>15</th>\n",
       "      <td>2019-06-16</td>\n",
       "      <td>Month 1</td>\n",
       "    </tr>\n",
       "  </tbody>\n",
       "</table>\n",
       "</div>"
      ],
      "text/plain": [
       "    gregorian_date month_name\n",
       "84      2019-08-24    Month 3\n",
       "86      2019-08-26    Month 3\n",
       "97      2019-09-06    Month 4\n",
       "115     2019-09-24    Month 4\n",
       "29      2019-06-30    Month 1\n",
       "114     2019-09-23    Month 4\n",
       "78      2019-08-18    Month 3\n",
       "81      2019-08-21    Month 3\n",
       "18      2019-06-19    Month 1\n",
       "15      2019-06-16    Month 1"
      ]
     },
     "execution_count": 5,
     "metadata": {},
     "output_type": "execute_result"
    }
   ],
   "source": [
    "# loading the third dataset - calendar data\n",
    "calendar_data = pd.read_csv('data/calendar_data.csv')\n",
    "\n",
    "# displaying ten random samples from the dataset\n",
    "calendar_data.sample(n = 10, random_state = 42)"
   ]
  },
  {
   "cell_type": "code",
   "execution_count": 6,
   "id": "db9d9a1e-062c-40ed-9891-4a55f08356f3",
   "metadata": {},
   "outputs": [
    {
     "name": "stdout",
     "output_type": "stream",
     "text": [
      "<class 'pandas.core.frame.DataFrame'>\n",
      "RangeIndex: 153 entries, 0 to 152\n",
      "Data columns (total 2 columns):\n",
      " #   Column          Non-Null Count  Dtype \n",
      "---  ------          --------------  ----- \n",
      " 0   gregorian_date  153 non-null    object\n",
      " 1   month_name      153 non-null    object\n",
      "dtypes: object(2)\n",
      "memory usage: 2.5+ KB\n"
     ]
    }
   ],
   "source": [
    "# looking at and understanding the data types and columns in the calendar dataset\n",
    "calendar_data.info()"
   ]
  },
  {
   "cell_type": "code",
   "execution_count": 7,
   "id": "afa71f79-b333-44b6-a371-c373ba4a92d9",
   "metadata": {},
   "outputs": [],
   "source": [
    "# merging the client and deposit data  on the client_id\n",
    "df = client_data.merge(deposit_data, on = 'client_id')"
   ]
  },
  {
   "cell_type": "code",
   "execution_count": 8,
   "id": "e39acc00-6fcc-41bb-b2a7-52bf2ba7ab27",
   "metadata": {},
   "outputs": [
    {
     "data": {
      "text/html": [
       "<div>\n",
       "<style scoped>\n",
       "    .dataframe tbody tr th:only-of-type {\n",
       "        vertical-align: middle;\n",
       "    }\n",
       "\n",
       "    .dataframe tbody tr th {\n",
       "        vertical-align: top;\n",
       "    }\n",
       "\n",
       "    .dataframe thead th {\n",
       "        text-align: right;\n",
       "    }\n",
       "</style>\n",
       "<table border=\"1\" class=\"dataframe\">\n",
       "  <thead>\n",
       "    <tr style=\"text-align: right;\">\n",
       "      <th></th>\n",
       "      <th>client_id</th>\n",
       "      <th>client_geographical_region</th>\n",
       "      <th>client_residence_status</th>\n",
       "      <th>client_age</th>\n",
       "      <th>deposit_type</th>\n",
       "      <th>deposit_amount</th>\n",
       "      <th>deposit_cadence</th>\n",
       "      <th>deposit_date</th>\n",
       "      <th>month_name</th>\n",
       "    </tr>\n",
       "  </thead>\n",
       "  <tbody>\n",
       "    <tr>\n",
       "      <th>229803</th>\n",
       "      <td>785857299278044</td>\n",
       "      <td>Northeast</td>\n",
       "      <td>Own</td>\n",
       "      <td>50</td>\n",
       "      <td>Actual Deposit</td>\n",
       "      <td>206.0</td>\n",
       "      <td>Biweekly</td>\n",
       "      <td>2019-10-20</td>\n",
       "      <td>Month 5</td>\n",
       "    </tr>\n",
       "    <tr>\n",
       "      <th>92181</th>\n",
       "      <td>863421829222010</td>\n",
       "      <td>West</td>\n",
       "      <td>Own</td>\n",
       "      <td>38</td>\n",
       "      <td>Scheduled Deposit</td>\n",
       "      <td>628.0</td>\n",
       "      <td>Monthly</td>\n",
       "      <td>2019-07-30</td>\n",
       "      <td>Month 2</td>\n",
       "    </tr>\n",
       "    <tr>\n",
       "      <th>284306</th>\n",
       "      <td>490229169616749</td>\n",
       "      <td>West</td>\n",
       "      <td>Own</td>\n",
       "      <td>55</td>\n",
       "      <td>Scheduled Deposit</td>\n",
       "      <td>121.0</td>\n",
       "      <td>Biweekly</td>\n",
       "      <td>2019-07-11</td>\n",
       "      <td>Month 2</td>\n",
       "    </tr>\n",
       "    <tr>\n",
       "      <th>117592</th>\n",
       "      <td>708243207406045</td>\n",
       "      <td>West</td>\n",
       "      <td>Rent</td>\n",
       "      <td>40</td>\n",
       "      <td>Scheduled Deposit</td>\n",
       "      <td>706.0</td>\n",
       "      <td>Monthly</td>\n",
       "      <td>2019-08-02</td>\n",
       "      <td>Month 3</td>\n",
       "    </tr>\n",
       "    <tr>\n",
       "      <th>453913</th>\n",
       "      <td>38088639566247</td>\n",
       "      <td>Northeast</td>\n",
       "      <td>Own</td>\n",
       "      <td>73</td>\n",
       "      <td>Actual Deposit</td>\n",
       "      <td>398.0</td>\n",
       "      <td>Monthly</td>\n",
       "      <td>2019-08-15</td>\n",
       "      <td>Month 3</td>\n",
       "    </tr>\n",
       "    <tr>\n",
       "      <th>427363</th>\n",
       "      <td>253451236144307</td>\n",
       "      <td>West</td>\n",
       "      <td>Own</td>\n",
       "      <td>69</td>\n",
       "      <td>Actual Deposit</td>\n",
       "      <td>600.0</td>\n",
       "      <td>Extra</td>\n",
       "      <td>2019-06-22</td>\n",
       "      <td>Month 1</td>\n",
       "    </tr>\n",
       "    <tr>\n",
       "      <th>90436</th>\n",
       "      <td>138146421326438</td>\n",
       "      <td>South</td>\n",
       "      <td>Own</td>\n",
       "      <td>38</td>\n",
       "      <td>Actual Deposit</td>\n",
       "      <td>982.0</td>\n",
       "      <td>Monthly</td>\n",
       "      <td>2019-09-16</td>\n",
       "      <td>Month 4</td>\n",
       "    </tr>\n",
       "    <tr>\n",
       "      <th>391277</th>\n",
       "      <td>357249266343996</td>\n",
       "      <td>South</td>\n",
       "      <td>Own</td>\n",
       "      <td>64</td>\n",
       "      <td>Actual Deposit</td>\n",
       "      <td>199.0</td>\n",
       "      <td>Biweekly</td>\n",
       "      <td>2019-07-19</td>\n",
       "      <td>Month 2</td>\n",
       "    </tr>\n",
       "    <tr>\n",
       "      <th>417793</th>\n",
       "      <td>989835480580028</td>\n",
       "      <td>South</td>\n",
       "      <td>Own</td>\n",
       "      <td>67</td>\n",
       "      <td>Actual Deposit</td>\n",
       "      <td>389.0</td>\n",
       "      <td>Biweekly</td>\n",
       "      <td>2019-09-18</td>\n",
       "      <td>Month 4</td>\n",
       "    </tr>\n",
       "    <tr>\n",
       "      <th>454206</th>\n",
       "      <td>657010099818145</td>\n",
       "      <td>South</td>\n",
       "      <td>Rent</td>\n",
       "      <td>73</td>\n",
       "      <td>Actual Deposit</td>\n",
       "      <td>214.0</td>\n",
       "      <td>Monthly</td>\n",
       "      <td>2019-07-20</td>\n",
       "      <td>Month 2</td>\n",
       "    </tr>\n",
       "  </tbody>\n",
       "</table>\n",
       "</div>"
      ],
      "text/plain": [
       "              client_id client_geographical_region client_residence_status  \\\n",
       "229803  785857299278044                  Northeast                     Own   \n",
       "92181   863421829222010                       West                     Own   \n",
       "284306  490229169616749                       West                     Own   \n",
       "117592  708243207406045                       West                    Rent   \n",
       "453913   38088639566247                  Northeast                     Own   \n",
       "427363  253451236144307                       West                     Own   \n",
       "90436   138146421326438                      South                     Own   \n",
       "391277  357249266343996                      South                     Own   \n",
       "417793  989835480580028                      South                     Own   \n",
       "454206  657010099818145                      South                    Rent   \n",
       "\n",
       "        client_age       deposit_type  deposit_amount deposit_cadence  \\\n",
       "229803          50     Actual Deposit           206.0        Biweekly   \n",
       "92181           38  Scheduled Deposit           628.0         Monthly   \n",
       "284306          55  Scheduled Deposit           121.0        Biweekly   \n",
       "117592          40  Scheduled Deposit           706.0         Monthly   \n",
       "453913          73     Actual Deposit           398.0         Monthly   \n",
       "427363          69     Actual Deposit           600.0           Extra   \n",
       "90436           38     Actual Deposit           982.0         Monthly   \n",
       "391277          64     Actual Deposit           199.0        Biweekly   \n",
       "417793          67     Actual Deposit           389.0        Biweekly   \n",
       "454206          73     Actual Deposit           214.0         Monthly   \n",
       "\n",
       "       deposit_date month_name  \n",
       "229803   2019-10-20    Month 5  \n",
       "92181    2019-07-30    Month 2  \n",
       "284306   2019-07-11    Month 2  \n",
       "117592   2019-08-02    Month 3  \n",
       "453913   2019-08-15    Month 3  \n",
       "427363   2019-06-22    Month 1  \n",
       "90436    2019-09-16    Month 4  \n",
       "391277   2019-07-19    Month 2  \n",
       "417793   2019-09-18    Month 4  \n",
       "454206   2019-07-20    Month 2  "
      ]
     },
     "execution_count": 8,
     "metadata": {},
     "output_type": "execute_result"
    }
   ],
   "source": [
    "# merging the calendar data\n",
    "df = df.merge(calendar_data, how = 'left', left_on = 'deposit_date', right_on = 'gregorian_date', copy = False)\n",
    "\n",
    "# dropping the gregorian date column\n",
    "df = df.drop(columns = 'gregorian_date')\n",
    "\n",
    "# displaying a random sample\n",
    "df.sample(n = 10, random_state = 42)"
   ]
  },
  {
   "cell_type": "markdown",
   "id": "31d96f28-a536-4190-b6f9-c0e3c4ed4a0e",
   "metadata": {},
   "source": [
    "### Exploring the dataset\n",
    "\n",
    "+ Understand the columns in the dataset\n",
    "+ Questions that come to mind:\n",
    "1. How many regions are there and is the data balanced or imbalanced?\n",
    "2. How many different resident statuses are there, and what does that distribution look like?\n",
    "3. Distribution of age in the dataset\n",
    "4. Financials by age, average deposit amount? Resident status by age?\n",
    "5. Distribution of days by month (How many days in each month)"
   ]
  },
  {
   "cell_type": "code",
   "execution_count": 9,
   "id": "38ddaf1c-6605-426b-b5fd-d4e0875e1c0e",
   "metadata": {},
   "outputs": [
    {
     "data": {
      "text/plain": [
       "West         205629\n",
       "South        108004\n",
       "Midwest       88185\n",
       "Northeast     78576\n",
       "Name: client_geographical_region, dtype: int64"
      ]
     },
     "execution_count": 9,
     "metadata": {},
     "output_type": "execute_result"
    }
   ],
   "source": [
    "# taking a deeper dive into the regions and the distribution, using the .value_counts() function\n",
    "df['client_geographical_region'].value_counts()"
   ]
  },
  {
   "cell_type": "code",
   "execution_count": 10,
   "id": "2c4962e4-baa6-47bd-9de7-25f723436ed7",
   "metadata": {},
   "outputs": [
    {
     "data": {
      "text/plain": [
       "Own     345432\n",
       "Rent    134962\n",
       "Name: client_residence_status, dtype: int64"
      ]
     },
     "execution_count": 10,
     "metadata": {},
     "output_type": "execute_result"
    }
   ],
   "source": [
    "# understanding the distribution of resident status\n",
    "df['client_residence_status'].value_counts()"
   ]
  },
  {
   "cell_type": "code",
   "execution_count": 11,
   "id": "f50b4464-5386-4285-ad37-acafb27282c7",
   "metadata": {},
   "outputs": [
    {
     "name": "stdout",
     "output_type": "stream",
     "text": [
      "The youngest clients in the dataset are 21 years old, while the eldest is 105 years old\n"
     ]
    }
   ],
   "source": [
    "# looking at the age distribution in the dataset, let's look at the minimum age\n",
    "min_age = df['client_age'].min()\n",
    "\n",
    "# now looking for the max client age in the dataset\n",
    "max_age = df['client_age'].max()\n",
    "\n",
    "# printing out statement identifying the min and max age\n",
    "print(f\"The youngest clients in the dataset are {min_age} years old, while the eldest is {max_age} years old\")"
   ]
  },
  {
   "cell_type": "markdown",
   "id": "3c417c44-83a0-446f-8d76-a16e56020749",
   "metadata": {},
   "source": [
    "### About the client ages\n",
    "\n",
    "+ Create a visual that shows the distribution of ages in the dataset\n",
    "+ It is great that we know the youngest and eldest, but where are most clients in terms of age?"
   ]
  },
  {
   "cell_type": "code",
   "execution_count": 12,
   "id": "475813cd-3693-46d5-99a2-a6a893c4ad63",
   "metadata": {},
   "outputs": [
    {
     "data": {
      "image/png": "[encoded data removed]",
      "text/plain": [
       "<Figure size 432x288 with 1 Axes>"
      ]
     },
     "metadata": {
      "needs_background": "light"
     },
     "output_type": "display_data"
    }
   ],
   "source": [
    "# creating a visual to understand the age distribution in the dataset\n",
    "age_dist = client_data['client_age'].plot(kind = 'hist')"
   ]
  },
  {
   "cell_type": "markdown",
   "id": "78bb2cb9-2e67-4353-8fb1-98259ec84b03",
   "metadata": {},
   "source": [
    "### Key takeaway from the histogram\n",
    "\n",
    "+ Most clients in the dataset are between the ages 40 to 70\n",
    "\n",
    "### Next...\n",
    "\n",
    "+ Let's take a look at the distribution of days across the 5 months of data\n",
    "+ Are they all 30 days? Are there any 28 or 31?\n",
    "\n",
    "### After that\n",
    "\n",
    "+ The type of candence of the deposits are also categorial\n",
    "+ Therefore, there is a high chance we will be doing some grouping or plots around them\n",
    "+ There are two deposit types, actual and scheduled - we will need to understand that distribution\n",
    "+ There are three different types of deposit cadences: monthly, biweekly, and extra - another area that we will need to explore the distribution"
   ]
  },
  {
   "cell_type": "code",
   "execution_count": 13,
   "id": "b30f2905-7dec-475f-837f-52b1da93851c",
   "metadata": {},
   "outputs": [
    {
     "data": {
      "text/plain": [
       "Month 2    31\n",
       "Month 3    31\n",
       "Month 5    31\n",
       "Month 1    30\n",
       "Month 4    30\n",
       "Name: month_name, dtype: int64"
      ]
     },
     "execution_count": 13,
     "metadata": {},
     "output_type": "execute_result"
    }
   ],
   "source": [
    "# looking at the calendar days distribution using the value_counts() function\n",
    "calendar_data['month_name'].value_counts()"
   ]
  },
  {
   "cell_type": "code",
   "execution_count": 14,
   "id": "948ba356-b518-4aef-ab6b-97788dff0983",
   "metadata": {},
   "outputs": [
    {
     "name": "stdout",
     "output_type": "stream",
     "text": [
      "The dataset ranges from dates 2019-06-01 to 2019-10-31\n"
     ]
    }
   ],
   "source": [
    "# getting the earliest date in the dataset\n",
    "min_date = df['deposit_date'].min()\n",
    "\n",
    "# getting the latest date in the dataset\n",
    "max_date = df['deposit_date'].max()\n",
    "\n",
    "# printing out statement including both min and max date\n",
    "print(f\"The dataset ranges from dates {min_date} to {max_date}\")"
   ]
  },
  {
   "cell_type": "markdown",
   "id": "37da4e4f-b7a7-4875-90c0-3c0f8ac9af9a",
   "metadata": {},
   "source": [
    "### Deposit types and cadences\n",
    "\n",
    "+ They are categorical variables\n",
    "+ Meaning, groupings and plotting is a likely possibility so it's worth exploring the values and their overall distribution"
   ]
  },
  {
   "cell_type": "code",
   "execution_count": 15,
   "id": "42dd2608-27ee-4871-8b5f-1519e854d393",
   "metadata": {},
   "outputs": [
    {
     "data": {
      "text/plain": [
       "Scheduled Deposit    247986\n",
       "Actual Deposit       232408\n",
       "Name: deposit_type, dtype: int64"
      ]
     },
     "execution_count": 15,
     "metadata": {},
     "output_type": "execute_result"
    }
   ],
   "source": [
    "# getting a breakdown of the deposit types: scheduled and deposit\n",
    "df['deposit_type'].value_counts()"
   ]
  },
  {
   "cell_type": "code",
   "execution_count": 16,
   "id": "308039bf-1691-4d9f-8a74-acc0b741c9f6",
   "metadata": {},
   "outputs": [
    {
     "data": {
      "text/plain": [
       "Monthly     262858\n",
       "Biweekly    209189\n",
       "Extra         8347\n",
       "Name: deposit_cadence, dtype: int64"
      ]
     },
     "execution_count": 16,
     "metadata": {},
     "output_type": "execute_result"
    }
   ],
   "source": [
    "# now looking at the three different types of deposit cadences and their distribution\n",
    "df['deposit_cadence'].value_counts()"
   ]
  },
  {
   "cell_type": "code",
   "execution_count": 17,
   "id": "9168305b-57d9-4e67-b3c8-3d020a0eb808",
   "metadata": {},
   "outputs": [
    {
     "name": "stdout",
     "output_type": "stream",
     "text": [
      "<class 'pandas.core.frame.DataFrame'>\n",
      "Int64Index: 480394 entries, 0 to 480393\n",
      "Data columns (total 9 columns):\n",
      " #   Column                      Non-Null Count   Dtype  \n",
      "---  ------                      --------------   -----  \n",
      " 0   client_id                   480394 non-null  int64  \n",
      " 1   client_geographical_region  480394 non-null  object \n",
      " 2   client_residence_status     480394 non-null  object \n",
      " 3   client_age                  480394 non-null  int64  \n",
      " 4   deposit_type                480394 non-null  object \n",
      " 5   deposit_amount              480394 non-null  float64\n",
      " 6   deposit_cadence             480394 non-null  object \n",
      " 7   deposit_date                480394 non-null  object \n",
      " 8   month_name                  480394 non-null  object \n",
      "dtypes: float64(1), int64(2), object(6)\n",
      "memory usage: 36.7+ MB\n"
     ]
    }
   ],
   "source": [
    "# checking the data types using the .info() function\n",
    "df.info()"
   ]
  },
  {
   "cell_type": "markdown",
   "id": "a82b3a7a-ad4a-43c2-812d-3e2aced59121",
   "metadata": {},
   "source": [
    "### Now on to the deposit amount\n",
    "\n",
    "+ In the current state, deposit_date is an object\n",
    "+ For easier manipulation, we can use the [.to_datetime function](https://pandas.pydata.org/docs/reference/api/pandas.to_datetime.html) which will convert it to a datetime data type"
   ]
  },
  {
   "cell_type": "code",
   "execution_count": 38,
   "id": "e782c529-f28f-4e3c-be5a-1dacde97832e",
   "metadata": {},
   "outputs": [
    {
     "data": {
      "text/html": [
       "<div>\n",
       "<style scoped>\n",
       "    .dataframe tbody tr th:only-of-type {\n",
       "        vertical-align: middle;\n",
       "    }\n",
       "\n",
       "    .dataframe tbody tr th {\n",
       "        vertical-align: top;\n",
       "    }\n",
       "\n",
       "    .dataframe thead th {\n",
       "        text-align: right;\n",
       "    }\n",
       "</style>\n",
       "<table border=\"1\" class=\"dataframe\">\n",
       "  <thead>\n",
       "    <tr style=\"text-align: right;\">\n",
       "      <th></th>\n",
       "      <th>month_name</th>\n",
       "      <th>deposit_amount</th>\n",
       "      <th>previous_month</th>\n",
       "      <th>MoM_performance</th>\n",
       "    </tr>\n",
       "  </thead>\n",
       "  <tbody>\n",
       "    <tr>\n",
       "      <th>0</th>\n",
       "      <td>Month 1</td>\n",
       "      <td>29284830.86</td>\n",
       "      <td>0.00</td>\n",
       "      <td>inf</td>\n",
       "    </tr>\n",
       "    <tr>\n",
       "      <th>1</th>\n",
       "      <td>Month 2</td>\n",
       "      <td>29886431.27</td>\n",
       "      <td>29284830.86</td>\n",
       "      <td>2.05</td>\n",
       "    </tr>\n",
       "    <tr>\n",
       "      <th>2</th>\n",
       "      <td>Month 3</td>\n",
       "      <td>39675057.10</td>\n",
       "      <td>29886431.27</td>\n",
       "      <td>32.75</td>\n",
       "    </tr>\n",
       "    <tr>\n",
       "      <th>3</th>\n",
       "      <td>Month 4</td>\n",
       "      <td>38515819.73</td>\n",
       "      <td>39675057.10</td>\n",
       "      <td>-2.92</td>\n",
       "    </tr>\n",
       "    <tr>\n",
       "      <th>4</th>\n",
       "      <td>Month 5</td>\n",
       "      <td>38081175.23</td>\n",
       "      <td>38515819.73</td>\n",
       "      <td>-1.13</td>\n",
       "    </tr>\n",
       "  </tbody>\n",
       "</table>\n",
       "</div>"
      ],
      "text/plain": [
       "  month_name  deposit_amount  previous_month  MoM_performance\n",
       "0    Month 1     29284830.86            0.00              inf\n",
       "1    Month 2     29886431.27     29284830.86             2.05\n",
       "2    Month 3     39675057.10     29886431.27            32.75\n",
       "3    Month 4     38515819.73     39675057.10            -2.92\n",
       "4    Month 5     38081175.23     38515819.73            -1.13"
      ]
     },
     "execution_count": 38,
     "metadata": {},
     "output_type": "execute_result"
    }
   ],
   "source": [
    "# converting the deposit date from object to a datetime object\n",
    "df['deposit_date'] = pd.to_datetime(df['deposit_date'])\n",
    "\n",
    "# extracting the month from deposit data using the .to_datetime function and storing it in a new column\n",
    "df['deposit_month'] = pd.to_datetime(df['deposit_date']).dt.month\n",
    "\n",
    "# now time to calculate the deposit amount grouped by month number\n",
    "monthly_amounts = df.groupby('month_name')['deposit_amount'].sum().reset_index()\n",
    "\n",
    "# adding a new column with the previous month value\n",
    "monthly_amounts['previous_month'] = monthly_amounts['deposit_amount'].shift(1).fillna(0)\n",
    "\n",
    "# calculating the month over month deposit performance to determine if it increased or decreased and by what percentage %\n",
    "monthly_amounts['MoM_performance'] = round((monthly_amounts['deposit_amount'] - monthly_amounts['previous_month'])/monthly_amounts['previous_month'] * 100, 2) \n",
    "\n",
    "# displaying the monthly amount total, which will set up the visualization\n",
    "monthly_amounts"
   ]
  },
  {
   "cell_type": "markdown",
   "id": "edd4bd7d-4251-458d-bf37-a5f9d8168d97",
   "metadata": {},
   "source": [
    "### Monthly Amounts Takeaways\n",
    "\n",
    "+ Deposit amounts start to slowly increase in Month 2, then see a 32% increase in Month 3\n",
    "+ If the marketing campaign happened in Month 3, then one can begin to assume that the campaign did have a success in increase deposit amounts\n",
    "+ However, it is important to look at the performances in Month 4 and 5 to determine whether it was a shorter-term fix or if it had a longer-term impact on the business"
   ]
  },
  {
   "cell_type": "code",
   "execution_count": 45,
   "id": "c0aa53f2-1415-484a-ba01-e3c36d4bf7be",
   "metadata": {},
   "outputs": [
    {
     "data": {
      "image/png": "[encoded data removed]",
      "text/plain": [
       "<Figure size 1008x576 with 1 Axes>"
      ]
     },
     "metadata": {},
     "output_type": "display_data"
    }
   ],
   "source": [
    "# setting plot style to dark grid\n",
    "sns.set_style('darkgrid')\n",
    "\n",
    "# creating a figure and axis with a specified size\n",
    "fig, ax = plt.subplots(figsize = (14, 8))\n",
    "\n",
    "# defining font sizes for the plot elements\n",
    "fontsize = 18\n",
    "axfont = 12\n",
    "\n",
    "# plotting the deposit amount data with seaborn\n",
    "sns.barplot(data = monthly_amounts, x = 'month_name', y = 'deposit_amount', ax = ax)\n",
    "\n",
    "# updating the plot title and size \n",
    "plt.title('Deposit amounts increase by Month 3 and slight decrease after', fontdict = {'fontsize' : fontsize})\n",
    "\n",
    "# displaying the plot\n",
    "plt.show();"
   ]
  },
  {
   "cell_type": "code",
   "execution_count": null,
   "id": "630aab80-2d5d-4ffa-9aa6-e9533377f50b",
   "metadata": {},
   "outputs": [],
   "source": []
  },
  {
   "cell_type": "code",
   "execution_count": null,
   "id": "5bed824e-0e95-4ec0-8c51-68f92acb1e6e",
   "metadata": {},
   "outputs": [],
   "source": []
  },
  {
   "cell_type": "code",
   "execution_count": null,
   "id": "368ad603-e1d9-453d-898a-8e0ef4ad684a",
   "metadata": {},
   "outputs": [],
   "source": []
  },
  {
   "cell_type": "code",
   "execution_count": null,
   "id": "157f2fd3-05df-46be-8383-2823fd68fadd",
   "metadata": {},
   "outputs": [],
   "source": []
  },
  {
   "cell_type": "code",
   "execution_count": null,
   "id": "2e86e033-e70f-4e91-bf41-1170ed836b59",
   "metadata": {},
   "outputs": [],
   "source": []
  },
  {
   "cell_type": "code",
   "execution_count": null,
   "id": "b1b2c6df-2134-417e-94f3-fa24c60394cb",
   "metadata": {},
   "outputs": [],
   "source": []
  }
 ],
 "metadata": {
  "kernelspec": {
   "display_name": "Python 3",
   "language": "python",
   "name": "python3"
  },
  "language_info": {
   "codemirror_mode": {
    "name": "ipython",
    "version": 3
   },
   "file_extension": ".py",
   "mimetype": "text/x-python",
   "name": "python",
   "nbconvert_exporter": "python",
   "pygments_lexer": "ipython3",
   "version": "3.8.8"
  }
 },
 "nbformat": 4,
 "nbformat_minor": 5
}
